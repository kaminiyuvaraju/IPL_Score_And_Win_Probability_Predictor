{
 "cells": [
  {
   "cell_type": "code",
   "execution_count": 3,
   "id": "70a580df",
   "metadata": {},
   "outputs": [
    {
     "name": "stdout",
     "output_type": "stream",
     "text": [
      "Win predictor model accuracy: 97.15%\n"
     ]
    },
    {
     "data": {
      "text/plain": [
       "['model/venue_encoder.pkl']"
      ]
     },
     "execution_count": 3,
     "metadata": {},
     "output_type": "execute_result"
    }
   ],
   "source": [
    "import pandas as pd\n",
    "import numpy as np\n",
    "from sklearn.ensemble import RandomForestClassifier\n",
    "from sklearn.model_selection import train_test_split\n",
    "from sklearn.preprocessing import LabelEncoder\n",
    "from sklearn.metrics import accuracy_score\n",
    "import joblib\n",
    "\n",
    "# Load datasets\n",
    "matches = pd.read_csv('matches.csv')\n",
    "deliveries = pd.read_csv('deliveries.csv')\n",
    "\n",
    "# Merge to get winner and venue into deliveries\n",
    "df = deliveries.merge(matches[['id', 'winner', 'venue']], left_on='match_id', right_on='id', how='left')\n",
    "\n",
    "# Filter for 2nd innings only\n",
    "df = df[df['inning'] == 2]\n",
    "\n",
    "# Add cumulative runs and wickets\n",
    "df['current_runs'] = df.groupby('match_id')['total_runs'].cumsum()\n",
    "df['is_wicket'] = df['dismissal_kind'].notnull().astype(int)\n",
    "df['wickets'] = df.groupby('match_id')['is_wicket'].cumsum()\n",
    "\n",
    "# Calculate total balls bowled\n",
    "df['total_balls'] = (df['over'] - 1) * 6 + df['ball']\n",
    "\n",
    "# Drop rows where total_balls = 0 (just in case)\n",
    "df = df[df['total_balls'] > 0]\n",
    "\n",
    "# Encode winning team\n",
    "df['win'] = (df['batting_team'] == df['winner']).astype(int)\n",
    "\n",
    "# Encode teams and venue\n",
    "team_encoder = LabelEncoder()\n",
    "venue_encoder = LabelEncoder()\n",
    "\n",
    "df['batting_team_enc'] = team_encoder.fit_transform(df['batting_team'])\n",
    "df['bowling_team_enc'] = team_encoder.fit_transform(df['bowling_team'])\n",
    "df['venue_enc'] = venue_encoder.fit_transform(df['venue'])\n",
    "\n",
    "# Final features\n",
    "X = df[['batting_team_enc', 'bowling_team_enc', 'venue_enc',\n",
    "        'current_runs', 'wickets', 'over', 'ball']]\n",
    "y = df['win']\n",
    "\n",
    "# Split data\n",
    "X_train, X_test, y_train, y_test = train_test_split(X, y, test_size=0.2, random_state=42)\n",
    "\n",
    "# Train model\n",
    "model = RandomForestClassifier(n_estimators=100, random_state=42)\n",
    "model.fit(X_train, y_train)\n",
    "\n",
    "# Evaluate\n",
    "y_pred = model.predict(X_test)\n",
    "accuracy = accuracy_score(y_test, y_pred)\n",
    "print(f\"Win predictor model accuracy: {accuracy * 100:.2f}%\")\n",
    "\n",
    "# Save model and encoders\n",
    "joblib.dump(model, 'model/win_predictor.pkl')\n",
    "joblib.dump(team_encoder, 'model/team_encoder.pkl')\n",
    "joblib.dump(venue_encoder, 'model/venue_encoder.pkl')\n"
   ]
  },
  {
   "cell_type": "code",
   "execution_count": null,
   "id": "c947c730",
   "metadata": {},
   "outputs": [],
   "source": []
  }
 ],
 "metadata": {
  "kernelspec": {
   "display_name": "venv",
   "language": "python",
   "name": "python3"
  },
  "language_info": {
   "codemirror_mode": {
    "name": "ipython",
    "version": 3
   },
   "file_extension": ".py",
   "mimetype": "text/x-python",
   "name": "python",
   "nbconvert_exporter": "python",
   "pygments_lexer": "ipython3",
   "version": "3.11.9"
  }
 },
 "nbformat": 4,
 "nbformat_minor": 5
}
